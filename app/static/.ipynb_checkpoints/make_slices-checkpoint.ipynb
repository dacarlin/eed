{
 "metadata": {
  "name": "",
  "signature": "sha256:426d959be8f46455befc5d6aa325211e2a0d33c7d048259c30fd823d4d13e5c3"
 },
 "nbformat": 3,
 "nbformat_minor": 0,
 "worksheets": [
  {
   "cells": [
    {
     "cell_type": "code",
     "collapsed": false,
     "input": [
      "from weblogolib import *\n",
      "\n",
      "with open( 'msa.fasta' ) as fn:\n",
      "    seqs = read_seq_data(fn) \n",
      "    data = LogoData.from_seqs(seqs)\n",
      "    \n",
      "    for i in range(1, 455):\n",
      "        with open( 'slices/slice_%d.png' % i, 'wb' ) as target:\n",
      "            options = LogoOptions( fineprint=0, show_yaxis=False, show_xaxis=False, resolution=1200, scalewidth=0, logo_start=i, logo_end=i )\n",
      "            format = LogoFormat( data, options )\n",
      "            png = png_formatter( data, format )\n",
      "            target.write( png )\n",
      " "
     ],
     "language": "python",
     "metadata": {},
     "outputs": []
    }
   ],
   "metadata": {}
  }
 ]
}